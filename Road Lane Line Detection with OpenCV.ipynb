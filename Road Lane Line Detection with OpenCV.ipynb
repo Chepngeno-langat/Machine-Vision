{
 "cells": [
  {
   "cell_type": "code",
   "execution_count": 1,
   "id": "49b865fc",
   "metadata": {},
   "outputs": [],
   "source": [
    "%config IPCompleter.greedy=True"
   ]
  },
  {
   "cell_type": "code",
   "execution_count": 2,
   "id": "19645fc4",
   "metadata": {},
   "outputs": [],
   "source": [
    "import cv2\n",
    "import numpy as np\n",
    "import matplotlib.pyplot as plt"
   ]
  },
  {
   "cell_type": "code",
   "execution_count": 40,
   "id": "6269c689",
   "metadata": {},
   "outputs": [
    {
     "name": "stdout",
     "output_type": "stream",
     "text": [
      "(800, 1200, 3)\n"
     ]
    },
    {
     "ename": "NameError",
     "evalue": "name 'o' is not defined",
     "output_type": "error",
     "traceback": [
      "\u001b[0;31m---------------------------------------------------------------------------\u001b[0m",
      "\u001b[0;31mNameError\u001b[0m                                 Traceback (most recent call last)",
      "Cell \u001b[0;32mIn[40], line 48\u001b[0m\n\u001b[1;32m     38\u001b[0m masked_image \u001b[38;5;241m=\u001b[39m region_of_interest(canny_image, np\u001b[38;5;241m.\u001b[39marray([region_of_interest_vertices], np\u001b[38;5;241m.\u001b[39mint32))\n\u001b[1;32m     40\u001b[0m lines \u001b[38;5;241m=\u001b[39m cv2\u001b[38;5;241m.\u001b[39mHoughLinesP(masked_image,\n\u001b[1;32m     41\u001b[0m                         rho\u001b[38;5;241m=\u001b[39m\u001b[38;5;241m6\u001b[39m,\n\u001b[1;32m     42\u001b[0m                         theta\u001b[38;5;241m=\u001b[39mnp\u001b[38;5;241m.\u001b[39mpi \u001b[38;5;241m/\u001b[39m \u001b[38;5;241m60\u001b[39m,\n\u001b[0;32m   (...)\u001b[0m\n\u001b[1;32m     45\u001b[0m                         minLineLength\u001b[38;5;241m=\u001b[39m\u001b[38;5;241m40\u001b[39m,\n\u001b[1;32m     46\u001b[0m                         maxLineGap\u001b[38;5;241m=\u001b[39m\u001b[38;5;241m25\u001b[39m)\n\u001b[0;32m---> 48\u001b[0m image_with_lines \u001b[38;5;241m=\u001b[39m \u001b[43mdraw_lines\u001b[49m\u001b[43m(\u001b[49m\u001b[43mimg\u001b[49m\u001b[43m,\u001b[49m\u001b[43m \u001b[49m\u001b[43mlines\u001b[49m\u001b[43m)\u001b[49m\n\u001b[1;32m     50\u001b[0m plt\u001b[38;5;241m.\u001b[39mimshow(image_with_lines)\n\u001b[1;32m     51\u001b[0m plt\u001b[38;5;241m.\u001b[39mshow()\n",
      "Cell \u001b[0;32mIn[40], line 18\u001b[0m, in \u001b[0;36mdraw_lines\u001b[0;34m(img, lines)\u001b[0m\n\u001b[1;32m     16\u001b[0m \u001b[38;5;28;01mfor\u001b[39;00m line \u001b[38;5;129;01min\u001b[39;00m lines:\n\u001b[1;32m     17\u001b[0m     \u001b[38;5;28;01mfor\u001b[39;00m x1, y1, x2, y2 \u001b[38;5;129;01min\u001b[39;00m line:\n\u001b[0;32m---> 18\u001b[0m         cv2\u001b[38;5;241m.\u001b[39mline(blank_image, (x1, y1), (x2, y2), (\u001b[43mo\u001b[49m, \u001b[38;5;241m255\u001b[39m, \u001b[38;5;241m0\u001b[39m), thickness\u001b[38;5;241m=\u001b[39m\u001b[38;5;241m3\u001b[39m)\n\u001b[1;32m     20\u001b[0m img \u001b[38;5;241m=\u001b[39m cv2\u001b[38;5;241m.\u001b[39maddWeighted(img, \u001b[38;5;241m0.8\u001b[39m, blank_image, \u001b[38;5;241m1\u001b[39m, \u001b[38;5;241m0.0\u001b[39m)\n\u001b[1;32m     21\u001b[0m \u001b[38;5;28;01mreturn\u001b[39;00m img\n",
      "\u001b[0;31mNameError\u001b[0m: name 'o' is not defined"
     ]
    }
   ],
   "source": [
    "img = cv2.imread('/home/karen/Documents/Datasets/OpenCV/opencv/samples/data/road_lane.jpg')\n",
    "img = cv2.cvtColor(img, cv2.COLOR_BGR2RGB)\n",
    "print(img.shape)\n",
    "\n",
    "def region_of_interest(img, vertices):\n",
    "    mask = np.zeros_like(img)\n",
    "#     channel_count = img.shape[2]\n",
    "    match_mask_color = 255\n",
    "    cv2.fillPoly(mask, vertices, match_mask_color)\n",
    "    masked_img = cv2.bitwise_and(img, mask)\n",
    "    return masked_img\n",
    "\n",
    "def draw_lines(img, lines):\n",
    "    img = np.copy(img)\n",
    "    blank_image = np.zeros((img.shape[0], img.shape[1], 3), dtype=np.uint8)\n",
    "    for line in lines:\n",
    "        for x1, y1, x2, y2 in line:\n",
    "            cv2.line(blank_image, (x1, y1), (x2, y2), (o, 255, 0), thickness=3)\n",
    "    \n",
    "    img = cv2.addWeighted(img, 0.8, blank_image, 1, 0.0)\n",
    "    return img\n",
    "\n",
    "\n",
    "# Define ROI\n",
    "height = img.shape[0]\n",
    "width = img.shape[1]\n",
    "\n",
    "region_of_interest_vertices = [\n",
    "    (0, height),\n",
    "    (0, 450),\n",
    "    (width / 2, (height / 2) - 80),\n",
    "    (width, 510),\n",
    "    (width, height)\n",
    "]\n",
    "\n",
    "gray_image = cv2.cvtColor(img, cv2.COLOR_BGR2GRAY)\n",
    "canny_image = cv2.Canny(gray_image, 100, 200)\n",
    "masked_image = region_of_interest(canny_image, np.array([region_of_interest_vertices], np.int32))\n",
    "\n",
    "lines = cv2.HoughLinesP(masked_image,\n",
    "                        rho=6,\n",
    "                        theta=np.pi / 60,\n",
    "                        threshold=160,\n",
    "                        lines=np.array([]),\n",
    "                        minLineLength=40,\n",
    "                        maxLineGap=25)\n",
    "\n",
    "image_with_lines = draw_lines(img, lines)\n",
    "\n",
    "plt.imshow(image_with_lines)\n",
    "plt.show()"
   ]
  },
  {
   "cell_type": "code",
   "execution_count": null,
   "id": "966c5ebc",
   "metadata": {},
   "outputs": [],
   "source": []
  }
 ],
 "metadata": {
  "kernelspec": {
   "display_name": "Python 3 (ipykernel)",
   "language": "python",
   "name": "python3"
  },
  "language_info": {
   "codemirror_mode": {
    "name": "ipython",
    "version": 3
   },
   "file_extension": ".py",
   "mimetype": "text/x-python",
   "name": "python",
   "nbconvert_exporter": "python",
   "pygments_lexer": "ipython3",
   "version": "3.10.9"
  }
 },
 "nbformat": 4,
 "nbformat_minor": 5
}
