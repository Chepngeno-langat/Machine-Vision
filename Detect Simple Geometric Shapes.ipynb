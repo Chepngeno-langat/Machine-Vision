{
 "cells": [
  {
   "cell_type": "code",
   "execution_count": 1,
   "id": "1123c577",
   "metadata": {},
   "outputs": [],
   "source": [
    "%config IPCompleter.greedy=True"
   ]
  },
  {
   "cell_type": "code",
   "execution_count": 2,
   "id": "4266071f",
   "metadata": {},
   "outputs": [],
   "source": [
    "import cv2\n",
    "import numpy as np\n",
    "import matplotlib.pyplot as plt"
   ]
  },
  {
   "cell_type": "code",
   "execution_count": null,
   "id": "218566f4",
   "metadata": {},
   "outputs": [],
   "source": [
    "img = cv2.imread('/home/karen/Documents/Datasets/OpenCV/opencv/samples/data/shapes.png')\n",
    "imgGray = cv2.cvtColor(img, cv2.COLOR_BGR2GRAY)\n",
    "\n",
    "_, thresh = cv2.threshold(imgGray, 240, 255, cv2.THRESH_BINARY)\n",
    "contours, _ = cv2.findContours(thresh, cv2.RETR_TREE, cv2.CHAIN_APPROX_NONE)\n",
    "\n",
    "for contour in contours:\n",
    "    approx = cv2.approxPolyDP(contour, 0.01* cv2.arcLength(contour, True), True)\n",
    "    cv2.drawContours(img, [approx], 0, (0, 0, 0), 5)\n",
    "    x = approx.ravel()[0]\n",
    "    y = approx.ravel()[1] - 5\n",
    "    \n",
    "    if len(approx) == 3:\n",
    "        cv2.putText(img, 'Triangle', (x, y), cv2.FONT_HERSHEY_SIMPLEX, 0.5, (0, 0, 0))\n",
    "    elif len(approx) == 4:\n",
    "        x, y, w, h = cv2.boundingRect(approx)\n",
    "        aspectRatio = float(w)/h\n",
    "        print(aspectRatio)\n",
    "        if aspectRatio >= 0.95 and aspectRatio <- 1.05:\n",
    "            cv2.putText(img, 'Square', (x, y), cv2.FONT_HERSHEY_SIMPLEX, 0.5, (0, 0, 0))\n",
    "        else:\n",
    "            cv2.putText(img, 'Rectangle', (x, y), cv2.FONT_HERSHEY_SIMPLEX, 0.5, (0, 0, 0))\n",
    "            \n",
    "    elif len(approx) == 5:\n",
    "        cv2.putText(img, 'Pentagon', (x, y), cv2.FONT_HERSHEY_SIMPLEX, 0.5, (0, 0, 0))\n",
    "    elif len(approx) == 10:\n",
    "        cv2.putText(img, 'Star', (x, y), cv2.FONT_HERSHEY_SIMPLEX, 0.5, (0, 0, 0))\n",
    "    else:\n",
    "        cv2.putText(img, 'Circle', (x, y), cv2.FONT_HERSHEY_SIMPLEX, 0.5, (0, 0, 0))\n",
    "        \n",
    "\n",
    "cv2.imshow('shapes', img)\n",
    "cv2.waitKey(0)\n",
    "cv2.destroyAllWindows()"
   ]
  },
  {
   "cell_type": "code",
   "execution_count": null,
   "id": "f0ad1d8b",
   "metadata": {},
   "outputs": [],
   "source": []
  }
 ],
 "metadata": {
  "kernelspec": {
   "display_name": "Python 3 (ipykernel)",
   "language": "python",
   "name": "python3"
  },
  "language_info": {
   "codemirror_mode": {
    "name": "ipython",
    "version": 3
   },
   "file_extension": ".py",
   "mimetype": "text/x-python",
   "name": "python",
   "nbconvert_exporter": "python",
   "pygments_lexer": "ipython3",
   "version": "3.10.9"
  }
 },
 "nbformat": 4,
 "nbformat_minor": 5
}
